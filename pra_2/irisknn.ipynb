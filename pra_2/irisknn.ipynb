{
 "cells": [
  {
   "cell_type": "code",
   "execution_count": 1,
   "id": "5baa0cb6-907e-484a-abb2-2569b301ebcf",
   "metadata": {},
   "outputs": [],
   "source": [
    "from sklearn.datasets import load_iris\n",
    "from sklearn.model_selection import train_test_split\n",
    "from sklearn.neighbors import KNeighborsClassifier\n",
    "from sklearn.metrics import accuracy_score"
   ]
  },
  {
   "cell_type": "code",
   "execution_count": 28,
   "id": "9bd7f51c-6441-458c-80a0-7c299ccaa19e",
   "metadata": {},
   "outputs": [],
   "source": [
    "iris = load_iris()\n",
    "X = iris.data[:,2:4]\n",
    "y = iris.target\n",
    "target_names = iris.target_names"
   ]
  },
  {
   "cell_type": "code",
   "execution_count": 29,
   "id": "0474bcb4-beae-4771-bfe0-a65a669bad3c",
   "metadata": {},
   "outputs": [],
   "source": [
    "X_train,X_test,y_train,y_test = train_test_split(X,y,test_size=0.3,random_state=42)"
   ]
  },
  {
   "cell_type": "code",
   "execution_count": 30,
   "id": "f8c78ae8-98b7-4e9c-9eb9-fed6faaa1ea5",
   "metadata": {},
   "outputs": [],
   "source": [
    "best_k,best_acc = 1,0"
   ]
  },
  {
   "cell_type": "code",
   "execution_count": 31,
   "id": "99f3aa05-2c41-4346-88b1-e4eab1758296",
   "metadata": {},
   "outputs": [
    {
     "name": "stdout",
     "output_type": "stream",
     "text": [
      "K = 1, Accuracy = 0.9777777777777777\n",
      "K = 2, Accuracy = 0.9777777777777777\n",
      "K = 3, Accuracy = 1.0\n",
      "K = 4, Accuracy = 1.0\n",
      "K = 5, Accuracy = 1.0\n",
      "K = 6, Accuracy = 1.0\n",
      "K = 7, Accuracy = 1.0\n",
      "K = 8, Accuracy = 1.0\n",
      "K = 9, Accuracy = 1.0\n",
      "K = 10, Accuracy = 1.0\n",
      "K = 11, Accuracy = 1.0\n",
      "K = 12, Accuracy = 1.0\n",
      "K = 13, Accuracy = 1.0\n",
      "K = 14, Accuracy = 1.0\n",
      "K = 15, Accuracy = 1.0\n",
      "K = 16, Accuracy = 1.0\n",
      "K = 17, Accuracy = 1.0\n",
      "K = 18, Accuracy = 1.0\n",
      "K = 19, Accuracy = 1.0\n",
      "K = 20, Accuracy = 1.0\n"
     ]
    }
   ],
   "source": [
    "for k in list(range(1,21)):\n",
    "    model = KNeighborsClassifier(n_neighbors=k).fit(X_train,y_train)\n",
    "    acc = accuracy_score(y_test,model.predict(X_test))\n",
    "    if acc > best_acc :\n",
    "        best_k,best_acc = k,acc\n",
    "    print(f\"K = {k}, Accuracy = {acc}\")\n"
   ]
  },
  {
   "cell_type": "code",
   "execution_count": 32,
   "id": "c8021be8-d363-481a-8543-fee8c636879d",
   "metadata": {},
   "outputs": [
    {
     "name": "stdout",
     "output_type": "stream",
     "text": [
      "Best K: 3, Accuracy = 1.00\n"
     ]
    }
   ],
   "source": [
    "final_model = KNeighborsClassifier(n_neighbors=best_k).fit(X_train,y_train)\n",
    "final_preds = final_model.predict(X_test)\n",
    "print(f\"Best K: {best_k}, Accuracy = {best_acc:.2f}\")"
   ]
  },
  {
   "cell_type": "code",
   "execution_count": null,
   "id": "dcb9fcf0-5b6b-4dd7-90f6-aff592b7372e",
   "metadata": {},
   "outputs": [],
   "source": []
  }
 ],
 "metadata": {
  "kernelspec": {
   "display_name": "Python (venv)",
   "language": "python",
   "name": "venv"
  },
  "language_info": {
   "codemirror_mode": {
    "name": "ipython",
    "version": 3
   },
   "file_extension": ".py",
   "mimetype": "text/x-python",
   "name": "python",
   "nbconvert_exporter": "python",
   "pygments_lexer": "ipython3",
   "version": "3.12.8"
  }
 },
 "nbformat": 4,
 "nbformat_minor": 5
}
