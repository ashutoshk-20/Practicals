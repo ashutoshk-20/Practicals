{
 "cells": [
  {
   "cell_type": "markdown",
   "id": "25a00cf1",
   "metadata": {},
   "source": [
    "# Letter Recognition"
   ]
  },
  {
   "cell_type": "markdown",
   "id": "33b463bf",
   "metadata": {},
   "source": [
    "### Importing Libraries"
   ]
  },
  {
   "cell_type": "code",
   "execution_count": 2,
   "id": "64e07f1d-dfc8-478d-9c65-b01c26fc12b8",
   "metadata": {},
   "outputs": [
    {
     "name": "stdout",
     "output_type": "stream",
     "text": [
      "WARNING:tensorflow:From C:\\python11\\Lib\\site-packages\\keras\\src\\losses.py:2976: The name tf.losses.sparse_softmax_cross_entropy is deprecated. Please use tf.compat.v1.losses.sparse_softmax_cross_entropy instead.\n",
      "\n"
     ]
    }
   ],
   "source": [
    "import tensorflow as tf\n",
    "from tensorflow.keras.models import Sequential\n",
    "from tensorflow.keras.layers import Dense,Dropout\n",
    "from tensorflow.keras.utils import to_categorical\n",
    "from sklearn.metrics import classification_report\n",
    "from sklearn.model_selection import train_test_split\n",
    "from sklearn.preprocessing import StandardScaler\n",
    "import pandas as pd"
   ]
  },
  {
   "cell_type": "markdown",
   "id": "24e65a63-43ca-4b5d-b96b-ad6b7b05f552",
   "metadata": {},
   "source": [
    "## Data Preparation"
   ]
  },
  {
   "cell_type": "markdown",
   "id": "f9b31715-5553-4ed0-8ced-f70a5c1e2b3b",
   "metadata": {},
   "source": [
    "### Data Loading"
   ]
  },
  {
   "cell_type": "code",
   "execution_count": 3,
   "id": "d8452a98-f735-43c8-9524-bac3f357a950",
   "metadata": {},
   "outputs": [],
   "source": [
    "data = pd.read_csv(\"../data/letter-recognition.csv\",header= None)"
   ]
  },
  {
   "cell_type": "code",
   "execution_count": 4,
   "id": "ff82e0b4-1696-4439-b2bc-478631883bcc",
   "metadata": {},
   "outputs": [
    {
     "data": {
      "text/plain": [
       "array(['letter', 'T', 'I', 'D', 'N', 'G', 'S', 'B', 'A', 'J', 'M', 'X',\n",
       "       'O', 'R', 'F', 'C', 'H', 'W', 'L', 'P', 'E', 'V', 'Y', 'Q', 'U',\n",
       "       'K', 'Z'], dtype=object)"
      ]
     },
     "execution_count": 4,
     "metadata": {},
     "output_type": "execute_result"
    }
   ],
   "source": [
    "data[0].unique()"
   ]
  },
  {
   "cell_type": "code",
   "execution_count": 5,
   "id": "0e931e65-5ee3-4b92-a27b-be7f0968399e",
   "metadata": {},
   "outputs": [],
   "source": [
    "data = data[data[0].str.len() == 1]\n",
    "data[0] = data[0].apply(lambda x: ord(x)- ord('A'))"
   ]
  },
  {
   "cell_type": "code",
   "execution_count": 6,
   "id": "3f02819a-dd2c-4db7-90e2-02a9305a46bd",
   "metadata": {},
   "outputs": [],
   "source": [
    "X = data.iloc[:,1:].values\n",
    "y = data.iloc[:,0].values"
   ]
  },
  {
   "cell_type": "code",
   "execution_count": 7,
   "id": "ce9b056b-e451-4531-98e7-024b3e40a4b2",
   "metadata": {},
   "outputs": [],
   "source": [
    "y = to_categorical(y,num_classes=26)"
   ]
  },
  {
   "cell_type": "markdown",
   "id": "9d9f74d0-9c34-49df-94d8-8c65b99c6038",
   "metadata": {},
   "source": [
    "### Data Splitting"
   ]
  },
  {
   "cell_type": "code",
   "execution_count": 8,
   "id": "01b51f84-b2a0-4405-9b0f-587ba2e4b86e",
   "metadata": {},
   "outputs": [],
   "source": [
    "X_train,X_test,y_train,y_test = train_test_split(X,y,test_size=0.2,random_state=42)"
   ]
  },
  {
   "cell_type": "markdown",
   "id": "68bd7024-27f1-4f89-849d-bdd5566a48bf",
   "metadata": {},
   "source": [
    "### Data Preprocessing"
   ]
  },
  {
   "cell_type": "code",
   "execution_count": 9,
   "id": "f21a20e2-c485-4176-b947-4cd2fcf04138",
   "metadata": {},
   "outputs": [],
   "source": [
    "scaler = StandardScaler()\n",
    "X_train = scaler.fit_transform(X_train)\n",
    "X_test = scaler.transform(X_test)"
   ]
  },
  {
   "cell_type": "markdown",
   "id": "2c45b553-5953-405a-8942-7bf116f5238a",
   "metadata": {},
   "source": [
    "## Model Creation"
   ]
  },
  {
   "cell_type": "markdown",
   "id": "189fd128-2277-4e58-9382-cb78dc77e1d9",
   "metadata": {},
   "source": [
    "### Loading the Model"
   ]
  },
  {
   "cell_type": "code",
   "execution_count": 10,
   "id": "329cb734-9f7c-4db4-bdd5-3c94983a170e",
   "metadata": {},
   "outputs": [
    {
     "name": "stdout",
     "output_type": "stream",
     "text": [
      "WARNING:tensorflow:From C:\\python11\\Lib\\site-packages\\keras\\src\\backend.py:873: The name tf.get_default_graph is deprecated. Please use tf.compat.v1.get_default_graph instead.\n",
      "\n"
     ]
    }
   ],
   "source": [
    "model = Sequential([\n",
    "    Dense(128,activation='relu',input_shape=(X_train.shape[1],)),\n",
    "    Dropout(0.3),\n",
    "    Dense(64,activation='relu'),\n",
    "    Dropout(0.3),\n",
    "    Dense(26,activation='softmax')\n",
    "])"
   ]
  },
  {
   "cell_type": "markdown",
   "id": "5b6bc206-d90c-406d-84ed-58d90ec9b3f2",
   "metadata": {},
   "source": [
    "### Model Compilation"
   ]
  },
  {
   "cell_type": "code",
   "execution_count": 11,
   "id": "42d8acd0-19d4-470b-8c63-f3aca457ebb2",
   "metadata": {},
   "outputs": [
    {
     "name": "stdout",
     "output_type": "stream",
     "text": [
      "WARNING:tensorflow:From C:\\python11\\Lib\\site-packages\\keras\\src\\optimizers\\__init__.py:309: The name tf.train.Optimizer is deprecated. Please use tf.compat.v1.train.Optimizer instead.\n",
      "\n"
     ]
    }
   ],
   "source": [
    "model.compile(\n",
    "    optimizer='adam',\n",
    "    loss = 'categorical_crossentropy',\n",
    "    metrics= ['accuracy']\n",
    ")"
   ]
  },
  {
   "cell_type": "markdown",
   "id": "abbac6cc-9d0d-4f7d-a032-042620cf0991",
   "metadata": {},
   "source": [
    "### Traing the model"
   ]
  },
  {
   "cell_type": "code",
   "execution_count": 12,
   "id": "0efaaefd-90b3-4a76-8b5a-aabc494b5eda",
   "metadata": {},
   "outputs": [
    {
     "name": "stdout",
     "output_type": "stream",
     "text": [
      "Epoch 1/30\n",
      "WARNING:tensorflow:From C:\\python11\\Lib\\site-packages\\keras\\src\\utils\\tf_utils.py:492: The name tf.ragged.RaggedTensorValue is deprecated. Please use tf.compat.v1.ragged.RaggedTensorValue instead.\n",
      "\n",
      "WARNING:tensorflow:From C:\\python11\\Lib\\site-packages\\keras\\src\\engine\\base_layer_utils.py:384: The name tf.executing_eagerly_outside_functions is deprecated. Please use tf.compat.v1.executing_eagerly_outside_functions instead.\n",
      "\n",
      "400/400 [==============================] - 2s 3ms/step - loss: 2.0724 - accuracy: 0.3948 - val_loss: 1.1447 - val_accuracy: 0.6903\n",
      "Epoch 2/30\n",
      "400/400 [==============================] - 1s 2ms/step - loss: 1.2314 - accuracy: 0.6154 - val_loss: 0.8860 - val_accuracy: 0.7422\n",
      "Epoch 3/30\n",
      "400/400 [==============================] - 1s 2ms/step - loss: 1.0431 - accuracy: 0.6745 - val_loss: 0.7554 - val_accuracy: 0.7784\n",
      "Epoch 4/30\n",
      "400/400 [==============================] - 1s 2ms/step - loss: 0.9272 - accuracy: 0.7055 - val_loss: 0.6760 - val_accuracy: 0.7972\n",
      "Epoch 5/30\n",
      "400/400 [==============================] - 1s 2ms/step - loss: 0.8595 - accuracy: 0.7259 - val_loss: 0.6183 - val_accuracy: 0.8178\n",
      "Epoch 6/30\n",
      "400/400 [==============================] - 1s 2ms/step - loss: 0.8009 - accuracy: 0.7472 - val_loss: 0.5754 - val_accuracy: 0.8350\n",
      "Epoch 7/30\n",
      "400/400 [==============================] - 1s 2ms/step - loss: 0.7587 - accuracy: 0.7584 - val_loss: 0.5334 - val_accuracy: 0.8456\n",
      "Epoch 8/30\n",
      "400/400 [==============================] - 1s 2ms/step - loss: 0.7248 - accuracy: 0.7694 - val_loss: 0.4969 - val_accuracy: 0.8509\n",
      "Epoch 9/30\n",
      "400/400 [==============================] - 1s 2ms/step - loss: 0.6971 - accuracy: 0.7755 - val_loss: 0.4712 - val_accuracy: 0.8594\n",
      "Epoch 10/30\n",
      "400/400 [==============================] - 1s 3ms/step - loss: 0.6622 - accuracy: 0.7880 - val_loss: 0.4518 - val_accuracy: 0.8681\n",
      "Epoch 11/30\n",
      "400/400 [==============================] - 1s 2ms/step - loss: 0.6497 - accuracy: 0.7915 - val_loss: 0.4363 - val_accuracy: 0.8763\n",
      "Epoch 12/30\n",
      "400/400 [==============================] - 1s 3ms/step - loss: 0.6153 - accuracy: 0.8011 - val_loss: 0.4135 - val_accuracy: 0.8813\n",
      "Epoch 13/30\n",
      "400/400 [==============================] - 1s 3ms/step - loss: 0.5964 - accuracy: 0.8062 - val_loss: 0.3983 - val_accuracy: 0.8800\n",
      "Epoch 14/30\n",
      "400/400 [==============================] - 1s 2ms/step - loss: 0.5863 - accuracy: 0.8134 - val_loss: 0.3781 - val_accuracy: 0.8900\n",
      "Epoch 15/30\n",
      "400/400 [==============================] - 1s 3ms/step - loss: 0.5742 - accuracy: 0.8127 - val_loss: 0.3692 - val_accuracy: 0.8925\n",
      "Epoch 16/30\n",
      "400/400 [==============================] - 1s 3ms/step - loss: 0.5565 - accuracy: 0.8184 - val_loss: 0.3560 - val_accuracy: 0.8925\n",
      "Epoch 17/30\n",
      "400/400 [==============================] - 1s 2ms/step - loss: 0.5482 - accuracy: 0.8251 - val_loss: 0.3413 - val_accuracy: 0.8997\n",
      "Epoch 18/30\n",
      "400/400 [==============================] - 1s 2ms/step - loss: 0.5277 - accuracy: 0.8325 - val_loss: 0.3321 - val_accuracy: 0.9025\n",
      "Epoch 19/30\n",
      "400/400 [==============================] - 2s 4ms/step - loss: 0.5126 - accuracy: 0.8370 - val_loss: 0.3287 - val_accuracy: 0.9028\n",
      "Epoch 20/30\n",
      "400/400 [==============================] - 1s 3ms/step - loss: 0.5181 - accuracy: 0.8355 - val_loss: 0.3211 - val_accuracy: 0.9050\n",
      "Epoch 21/30\n",
      "400/400 [==============================] - 1s 2ms/step - loss: 0.5145 - accuracy: 0.8330 - val_loss: 0.3139 - val_accuracy: 0.9069\n",
      "Epoch 22/30\n",
      "400/400 [==============================] - 1s 3ms/step - loss: 0.5062 - accuracy: 0.8366 - val_loss: 0.3039 - val_accuracy: 0.9116\n",
      "Epoch 23/30\n",
      "400/400 [==============================] - 1s 3ms/step - loss: 0.4958 - accuracy: 0.8401 - val_loss: 0.3023 - val_accuracy: 0.9094\n",
      "Epoch 24/30\n",
      "400/400 [==============================] - 1s 3ms/step - loss: 0.4751 - accuracy: 0.8470 - val_loss: 0.2858 - val_accuracy: 0.9144\n",
      "Epoch 25/30\n",
      "400/400 [==============================] - 1s 3ms/step - loss: 0.4712 - accuracy: 0.8491 - val_loss: 0.2951 - val_accuracy: 0.9156\n",
      "Epoch 26/30\n",
      "400/400 [==============================] - 1s 2ms/step - loss: 0.4780 - accuracy: 0.8427 - val_loss: 0.2829 - val_accuracy: 0.9172\n",
      "Epoch 27/30\n",
      "400/400 [==============================] - 1s 3ms/step - loss: 0.4768 - accuracy: 0.8459 - val_loss: 0.2770 - val_accuracy: 0.9219\n",
      "Epoch 28/30\n",
      "400/400 [==============================] - 1s 3ms/step - loss: 0.4693 - accuracy: 0.8488 - val_loss: 0.2732 - val_accuracy: 0.9181\n",
      "Epoch 29/30\n",
      "400/400 [==============================] - 1s 2ms/step - loss: 0.4552 - accuracy: 0.8522 - val_loss: 0.2682 - val_accuracy: 0.9175\n",
      "Epoch 30/30\n",
      "400/400 [==============================] - 1s 3ms/step - loss: 0.4600 - accuracy: 0.8501 - val_loss: 0.2710 - val_accuracy: 0.9159\n"
     ]
    }
   ],
   "source": [
    "history = model.fit(X_train,y_train,\n",
    "                    epochs = 30,\n",
    "                    batch_size = 32,\n",
    "                    validation_split = 0.2,\n",
    "                    verbose = 1\n",
    "                   )"
   ]
  },
  {
   "cell_type": "markdown",
   "id": "5dc6a787-078b-4a9c-b415-6c6d88a4e62e",
   "metadata": {},
   "source": [
    "### Model Evaluation and validation"
   ]
  },
  {
   "cell_type": "code",
   "execution_count": 13,
   "id": "c47bf57f-65d2-4d02-9ac1-73f5373543fa",
   "metadata": {},
   "outputs": [
    {
     "name": "stdout",
     "output_type": "stream",
     "text": [
      "Test Accuracy : 92.12%\n"
     ]
    }
   ],
   "source": [
    "test_loss,test_accuracy = model.evaluate(X_test,y_test,verbose=0)\n",
    "print(f\"Test Accuracy : {test_accuracy*100:.2f}%\")"
   ]
  },
  {
   "cell_type": "code",
   "execution_count": 14,
   "id": "dbe7c2de-f982-4f35-9257-a5539f202144",
   "metadata": {},
   "outputs": [
    {
     "name": "stdout",
     "output_type": "stream",
     "text": [
      "125/125 [==============================] - 0s 2ms/step\n",
      "Classification Report:\n",
      "\n",
      "              precision    recall  f1-score   support\n",
      "\n",
      "           A       0.93      0.96      0.94       149\n",
      "           B       0.80      0.97      0.87       153\n",
      "           C       0.98      0.93      0.95       137\n",
      "           D       0.90      0.94      0.92       156\n",
      "           E       0.92      0.89      0.91       141\n",
      "           F       0.88      0.89      0.88       140\n",
      "           G       0.87      0.91      0.89       160\n",
      "           H       0.92      0.76      0.83       144\n",
      "           I       0.97      0.92      0.94       146\n",
      "           J       0.96      0.95      0.95       149\n",
      "           K       0.85      0.85      0.85       130\n",
      "           L       0.97      0.92      0.94       155\n",
      "           M       0.96      0.98      0.97       168\n",
      "           N       0.97      0.91      0.94       151\n",
      "           O       0.92      0.92      0.92       145\n",
      "           P       0.98      0.86      0.92       173\n",
      "           Q       0.97      0.94      0.96       166\n",
      "           R       0.78      0.91      0.84       160\n",
      "           S       0.93      0.94      0.94       171\n",
      "           T       0.94      0.91      0.93       163\n",
      "           U       0.93      0.95      0.94       183\n",
      "           V       0.98      0.92      0.95       158\n",
      "           W       0.90      0.97      0.93       148\n",
      "           X       0.91      0.97      0.94       154\n",
      "           Y       0.96      0.95      0.95       168\n",
      "           Z       0.95      0.92      0.93       132\n",
      "\n",
      "    accuracy                           0.92      4000\n",
      "   macro avg       0.92      0.92      0.92      4000\n",
      "weighted avg       0.92      0.92      0.92      4000\n",
      "\n"
     ]
    }
   ],
   "source": [
    "predictions = model.predict(X_test)\n",
    "predictions = predictions.argmax(axis=1)\n",
    "y_true = y_test.argmax(axis=1)\n",
    "print(\"Classification Report:\\n\")\n",
    "print(classification_report(y_true,predictions,target_names=[chr(i) for i in range(ord('A'),ord('Z')+1)]))"
   ]
  },
  {
   "cell_type": "markdown",
   "id": "da3af278-b355-4e8d-9d2b-caddf84919fc",
   "metadata": {},
   "source": [
    "## Visualization"
   ]
  },
  {
   "cell_type": "code",
   "execution_count": 15,
   "id": "910984ec-67ab-4eb1-8d80-a8b388b49886",
   "metadata": {},
   "outputs": [
    {
     "data": {
      "image/png": "[encoded data removed]",
      "text/plain": [
       "<Figure size 1200x600 with 2 Axes>"
      ]
     },
     "metadata": {},
     "output_type": "display_data"
    }
   ],
   "source": [
    "import matplotlib.pyplot as plt\n",
    "\n",
    "plt.figure(figsize=(12,6))\n",
    "plt.subplot(1,2,1)\n",
    "plt.plot(history.history['accuracy'],label='Train Accuracy')\n",
    "plt.plot(history.history['val_accuracy'],label='Validation Accuracy')\n",
    "plt.title(\"Model Accuracy\")\n",
    "plt.xlabel(\"Epochs\")\n",
    "plt.ylabel('Accuracy')\n",
    "plt.legend()\n",
    "\n",
    "plt.subplot(1,2,2)\n",
    "plt.plot(history.history['loss'],label='Train Loss')\n",
    "plt.plot(history.history['val_loss'],label='Validation Loss')\n",
    "plt.title(\"Model Loss\")\n",
    "plt.xlabel(\"Epochs\")\n",
    "plt.ylabel('Loss')\n",
    "plt.legend()\n",
    "\n",
    "plt.show()\n"
   ]
  },
  {
   "cell_type": "code",
   "execution_count": null,
   "id": "9d26e369-0047-42c9-9008-a573f0dfb3e2",
   "metadata": {},
   "outputs": [],
   "source": []
  }
 ],
 "metadata": {
  "kernelspec": {
   "display_name": "Python 3 (ipykernel)",
   "language": "python",
   "name": "python3"
  },
  "language_info": {
   "codemirror_mode": {
    "name": "ipython",
    "version": 3
   },
   "file_extension": ".py",
   "mimetype": "text/x-python",
   "name": "python",
   "nbconvert_exporter": "python",
   "pygments_lexer": "ipython3",
   "version": "3.11.4"
  }
 },
 "nbformat": 4,
 "nbformat_minor": 5
}
