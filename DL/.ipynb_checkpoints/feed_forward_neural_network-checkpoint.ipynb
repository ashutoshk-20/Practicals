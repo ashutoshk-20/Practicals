{
 "cells": [
  {
   "cell_type": "markdown",
   "id": "bb04db0c",
   "metadata": {},
   "source": [
    "# Feed Forward Neural Network "
   ]
  },
  {
   "cell_type": "markdown",
   "id": "56367e8a",
   "metadata": {
    "jp-MarkdownHeadingCollapsed": true
   },
   "source": [
    "## Importing Libraries"
   ]
  },
  {
   "cell_type": "code",
   "execution_count": 1,
   "id": "e06549de",
   "metadata": {},
   "outputs": [
    {
     "name": "stdout",
     "output_type": "stream",
     "text": [
      "WARNING:tensorflow:From C:\\python11\\Lib\\site-packages\\keras\\src\\losses.py:2976: The name tf.losses.sparse_softmax_cross_entropy is deprecated. Please use tf.compat.v1.losses.sparse_softmax_cross_entropy instead.\n",
      "\n"
     ]
    }
   ],
   "source": [
    "import tensorflow as tf\n",
    "from tensorflow.keras.models import Sequential #type:ignore\n",
    "from tensorflow.keras.layers import Dense #type:ignore\n",
    "from sklearn.datasets import make_classification\n",
    "from sklearn.metrics import accuracy_score\n",
    "from sklearn.model_selection import train_test_split\n",
    "from sklearn.preprocessing import StandardScaler"
   ]
  },
  {
   "cell_type": "markdown",
   "id": "12342dfe",
   "metadata": {
    "jp-MarkdownHeadingCollapsed": true
   },
   "source": [
    "## Data Preparation"
   ]
  },
  {
   "cell_type": "markdown",
   "id": "94aeb166",
   "metadata": {},
   "source": [
    "### Load and Spliting the data"
   ]
  },
  {
   "cell_type": "code",
   "execution_count": 2,
   "id": "2cc5b88d",
   "metadata": {},
   "outputs": [],
   "source": [
    "X,y = make_classification(\n",
    "    n_samples = 1000,\n",
    "    n_features=20,\n",
    "    n_informative=15,\n",
    "    n_redundant=5,\n",
    "    random_state=42\n",
    ")"
   ]
  },
  {
   "cell_type": "code",
   "execution_count": 3,
   "id": "d89a07b2",
   "metadata": {},
   "outputs": [],
   "source": [
    "X_train,X_test,y_train,y_test = train_test_split(X,y,test_size=0.2,random_state=42)"
   ]
  },
  {
   "cell_type": "markdown",
   "id": "9235a6e8",
   "metadata": {},
   "source": [
    "### Data preprocessing"
   ]
  },
  {
   "cell_type": "code",
   "execution_count": 4,
   "id": "55fa9e1f",
   "metadata": {},
   "outputs": [],
   "source": [
    "scaler = StandardScaler()\n",
    "X_train = scaler.fit_transform(X_train)\n",
    "X_test = scaler.transform(X_test)"
   ]
  },
  {
   "cell_type": "markdown",
   "id": "fca093b8",
   "metadata": {
    "jp-MarkdownHeadingCollapsed": true
   },
   "source": [
    "## Model Making"
   ]
  },
  {
   "cell_type": "markdown",
   "id": "1131305e",
   "metadata": {},
   "source": [
    "### Loading the model"
   ]
  },
  {
   "cell_type": "code",
   "execution_count": 5,
   "id": "f80ff332",
   "metadata": {},
   "outputs": [
    {
     "name": "stdout",
     "output_type": "stream",
     "text": [
      "WARNING:tensorflow:From C:\\python11\\Lib\\site-packages\\keras\\src\\backend.py:873: The name tf.get_default_graph is deprecated. Please use tf.compat.v1.get_default_graph instead.\n",
      "\n"
     ]
    }
   ],
   "source": [
    "model = Sequential([\n",
    "    Dense(64,activation='relu',input_shape=(X_train.shape[1],)),\n",
    "    Dense(32,activation='relu'),\n",
    "    Dense(1,activation='sigmoid'),\n",
    "])"
   ]
  },
  {
   "cell_type": "markdown",
   "id": "252bb220",
   "metadata": {},
   "source": [
    "### Compiling the model"
   ]
  },
  {
   "cell_type": "code",
   "execution_count": 7,
   "id": "2d850ad4",
   "metadata": {},
   "outputs": [
    {
     "name": "stdout",
     "output_type": "stream",
     "text": [
      "WARNING:tensorflow:From C:\\python11\\Lib\\site-packages\\keras\\src\\optimizers\\__init__.py:309: The name tf.train.Optimizer is deprecated. Please use tf.compat.v1.train.Optimizer instead.\n",
      "\n"
     ]
    }
   ],
   "source": [
    "model.compile(\n",
    "    optimizer='adam',\n",
    "    loss='binary_crossentropy',\n",
    "    metrics=['accuracy']\n",
    ")"
   ]
  },
  {
   "cell_type": "markdown",
   "id": "fbe6ff39",
   "metadata": {},
   "source": [
    "### Training the model"
   ]
  },
  {
   "cell_type": "code",
   "execution_count": 8,
   "id": "bc62f16c",
   "metadata": {},
   "outputs": [
    {
     "name": "stdout",
     "output_type": "stream",
     "text": [
      "Epoch 1/20\n",
      "WARNING:tensorflow:From C:\\python11\\Lib\\site-packages\\keras\\src\\utils\\tf_utils.py:492: The name tf.ragged.RaggedTensorValue is deprecated. Please use tf.compat.v1.ragged.RaggedTensorValue instead.\n",
      "\n",
      "WARNING:tensorflow:From C:\\python11\\Lib\\site-packages\\keras\\src\\engine\\base_layer_utils.py:384: The name tf.executing_eagerly_outside_functions is deprecated. Please use tf.compat.v1.executing_eagerly_outside_functions instead.\n",
      "\n",
      "20/20 [==============================] - 3s 23ms/step - loss: 0.6605 - accuracy: 0.5906 - val_loss: 0.5898 - val_accuracy: 0.7563\n",
      "Epoch 2/20\n",
      "20/20 [==============================] - 0s 6ms/step - loss: 0.5351 - accuracy: 0.8047 - val_loss: 0.4983 - val_accuracy: 0.8438\n",
      "Epoch 3/20\n",
      "20/20 [==============================] - 0s 6ms/step - loss: 0.4395 - accuracy: 0.8641 - val_loss: 0.4265 - val_accuracy: 0.8375\n",
      "Epoch 4/20\n",
      "20/20 [==============================] - 0s 6ms/step - loss: 0.3586 - accuracy: 0.8953 - val_loss: 0.3714 - val_accuracy: 0.8562\n",
      "Epoch 5/20\n",
      "20/20 [==============================] - 0s 6ms/step - loss: 0.2966 - accuracy: 0.9094 - val_loss: 0.3325 - val_accuracy: 0.8813\n",
      "Epoch 6/20\n",
      "20/20 [==============================] - 0s 6ms/step - loss: 0.2549 - accuracy: 0.9234 - val_loss: 0.3016 - val_accuracy: 0.8750\n",
      "Epoch 7/20\n",
      "20/20 [==============================] - 0s 6ms/step - loss: 0.2226 - accuracy: 0.9312 - val_loss: 0.2747 - val_accuracy: 0.8938\n",
      "Epoch 8/20\n",
      "20/20 [==============================] - 0s 6ms/step - loss: 0.1995 - accuracy: 0.9391 - val_loss: 0.2566 - val_accuracy: 0.9125\n",
      "Epoch 9/20\n",
      "20/20 [==============================] - 0s 6ms/step - loss: 0.1827 - accuracy: 0.9422 - val_loss: 0.2413 - val_accuracy: 0.8938\n",
      "Epoch 10/20\n",
      "20/20 [==============================] - 0s 6ms/step - loss: 0.1650 - accuracy: 0.9469 - val_loss: 0.2409 - val_accuracy: 0.8938\n",
      "Epoch 11/20\n",
      "20/20 [==============================] - 0s 6ms/step - loss: 0.1493 - accuracy: 0.9547 - val_loss: 0.2202 - val_accuracy: 0.9062\n",
      "Epoch 12/20\n",
      "20/20 [==============================] - 0s 5ms/step - loss: 0.1364 - accuracy: 0.9656 - val_loss: 0.2136 - val_accuracy: 0.9062\n",
      "Epoch 13/20\n",
      "20/20 [==============================] - 0s 6ms/step - loss: 0.1256 - accuracy: 0.9656 - val_loss: 0.2123 - val_accuracy: 0.9125\n",
      "Epoch 14/20\n",
      "20/20 [==============================] - 0s 5ms/step - loss: 0.1151 - accuracy: 0.9688 - val_loss: 0.2038 - val_accuracy: 0.9125\n",
      "Epoch 15/20\n",
      "20/20 [==============================] - 0s 6ms/step - loss: 0.1067 - accuracy: 0.9734 - val_loss: 0.2035 - val_accuracy: 0.9125\n",
      "Epoch 16/20\n",
      "20/20 [==============================] - 0s 6ms/step - loss: 0.0971 - accuracy: 0.9750 - val_loss: 0.1987 - val_accuracy: 0.9062\n",
      "Epoch 17/20\n",
      "20/20 [==============================] - 0s 5ms/step - loss: 0.0884 - accuracy: 0.9766 - val_loss: 0.2023 - val_accuracy: 0.9000\n",
      "Epoch 18/20\n",
      "20/20 [==============================] - 0s 5ms/step - loss: 0.0828 - accuracy: 0.9797 - val_loss: 0.1986 - val_accuracy: 0.9062\n",
      "Epoch 19/20\n",
      "20/20 [==============================] - 0s 5ms/step - loss: 0.0748 - accuracy: 0.9797 - val_loss: 0.2005 - val_accuracy: 0.9062\n",
      "Epoch 20/20\n",
      "20/20 [==============================] - 0s 5ms/step - loss: 0.0698 - accuracy: 0.9844 - val_loss: 0.1991 - val_accuracy: 0.9187\n"
     ]
    }
   ],
   "source": [
    "history = model.fit(X_train, y_train, \n",
    "                    epochs=20, \n",
    "                    batch_size=32, \n",
    "                    validation_split=0.2, \n",
    "                    verbose=1)\n"
   ]
  },
  {
   "cell_type": "markdown",
   "id": "1c88ec87-866e-4c61-b0d9-0ee5aa68a67e",
   "metadata": {},
   "source": [
    "### Validation and evaluation"
   ]
  },
  {
   "cell_type": "code",
   "execution_count": 10,
   "id": "e1fcad61",
   "metadata": {},
   "outputs": [
    {
     "name": "stdout",
     "output_type": "stream",
     "text": [
      "Test Accuracy : 93.50%\n"
     ]
    }
   ],
   "source": [
    "test_loss,test_accuracy = model.evaluate(X_test,y_test,verbose = 0)\n",
    "print(f\"Test Accuracy : {test_accuracy*100:.2f}%\")"
   ]
  },
  {
   "cell_type": "code",
   "execution_count": 11,
   "id": "09663347-9120-43c5-8182-d23831e7f866",
   "metadata": {},
   "outputs": [
    {
     "name": "stdout",
     "output_type": "stream",
     "text": [
      "7/7 [==============================] - 0s 3ms/step\n",
      "Accuracy score : 93.50%\n"
     ]
    }
   ],
   "source": [
    "predictions = (model.predict(X_test)>0.5).astype('int32')\n",
    "accuracy = accuracy_score(y_test,predictions)\n",
    "print(f\"Accuracy score : {accuracy*100:.2f}%\")"
   ]
  },
  {
   "cell_type": "markdown",
   "id": "8b955abf-4f21-4d6b-ba67-59a82d01e47a",
   "metadata": {
    "jp-MarkdownHeadingCollapsed": true
   },
   "source": [
    "## Visualization"
   ]
  },
  {
   "cell_type": "code",
   "execution_count": 12,
   "id": "25b93ef8-7e38-4760-ad4f-8221d8508ce5",
   "metadata": {},
   "outputs": [
    {
     "data": {
      "image/png": "[encoded data removed]",
      "text/plain": [
       "<Figure size 1200x600 with 1 Axes>"
      ]
     },
     "metadata": {},
     "output_type": "display_data"
    }
   ],
   "source": [
    "import matplotlib.pyplot as plt\n",
    "plt.figure(figsize=(12,6))\n",
    "plt.plot(history.history['accuracy'], label=\"Train Accuracy\")\n",
    "plt.plot(history.history['val_accuracy'], label=\"Validation Accuracy\")\n",
    "plt.title(\"Model Accuracy\")\n",
    "plt.xlabel('Epochs')\n",
    "plt.ylabel('Accuracy')\n",
    "plt.legend()\n",
    "plt.show()"
   ]
  },
  {
   "cell_type": "code",
   "execution_count": null,
   "id": "fc08bf61-ae44-4855-80ce-122778e711bd",
   "metadata": {},
   "outputs": [],
   "source": []
  }
 ],
 "metadata": {
  "kernelspec": {
   "display_name": "Python 3 (ipykernel)",
   "language": "python",
   "name": "python3"
  },
  "language_info": {
   "codemirror_mode": {
    "name": "ipython",
    "version": 3
   },
   "file_extension": ".py",
   "mimetype": "text/x-python",
   "name": "python",
   "nbconvert_exporter": "python",
   "pygments_lexer": "ipython3",
   "version": "3.11.4"
  }
 },
 "nbformat": 4,
 "nbformat_minor": 5
}
