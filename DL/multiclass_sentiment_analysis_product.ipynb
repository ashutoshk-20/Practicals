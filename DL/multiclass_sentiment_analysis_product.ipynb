{
 "cells": [
  {
   "cell_type": "markdown",
   "id": "34b0fa23-e391-4c95-9a83-61836825077e",
   "metadata": {},
   "source": [
    "# Multiclass Product Sentiment Analysis "
   ]
  },
  {
   "cell_type": "markdown",
   "id": "eff5fd69-8e9a-4032-9c93-d1b6cf65187e",
   "metadata": {},
   "source": [
    "## Importing Libraries"
   ]
  },
  {
   "cell_type": "code",
   "execution_count": 1,
   "id": "bb9041f2-649d-46a5-af08-b3aaffc5a742",
   "metadata": {},
   "outputs": [],
   "source": [
    "import pandas as pd\n",
    "import numpy as np\n",
    "import re\n",
    "import tensorflow as tf\n",
    "from tensorflow.keras.preprocessing.sequence import pad_sequences\n",
    "from tensorflow.keras.layers import Dense,Embedding,SimpleRNN\n",
    "from tensorflow.keras.models import Sequential\n",
    "from tensorflow.keras.preprocessing.text import Tokenizer\n",
    "from tensorflow.keras.utils import to_categorical\n",
    "from sklearn.model_selection import train_test_split\n",
    "from sklearn.preprocessing import LabelEncoder"
   ]
  },
  {
   "cell_type": "markdown",
   "id": "e1ab5f72-df29-43ef-90e8-1baad4469f2d",
   "metadata": {},
   "source": [
    "## Data Preparation"
   ]
  },
  {
   "cell_type": "markdown",
   "id": "b64f532e-fb99-4e5a-b680-e166a22f8ad0",
   "metadata": {},
   "source": [
    "### Loading the dataset"
   ]
  },
  {
   "cell_type": "code",
   "execution_count": 2,
   "id": "f9e07be1-75e7-4653-a26c-6dd45967f17f",
   "metadata": {},
   "outputs": [],
   "source": [
    "df = pd.read_csv('../data/sentiment_analysis_1.csv')"
   ]
  },
  {
   "cell_type": "markdown",
   "id": "0ab732f4-b03e-48df-839e-7e8f30341e66",
   "metadata": {},
   "source": [
    "### Data Cleaning"
   ]
  },
  {
   "cell_type": "code",
   "execution_count": 3,
   "id": "9b2a083b-a2aa-40b4-bfcc-b21201c8e7e7",
   "metadata": {},
   "outputs": [],
   "source": [
    "def clean_text(text):\n",
    "    return re.sub(r'[^a-zA-z\\s]','',text.lower().strip())"
   ]
  },
  {
   "cell_type": "code",
   "execution_count": 4,
   "id": "aa049fe3-7b3d-4f08-a7d6-3eaf63f4e96e",
   "metadata": {},
   "outputs": [],
   "source": [
    "df['cleaned_text'] = df['text'].apply(clean_text)"
   ]
  },
  {
   "cell_type": "markdown",
   "id": "3727072b-6901-4c95-8efa-92aa9188582a",
   "metadata": {},
   "source": [
    "### Tokenizing input"
   ]
  },
  {
   "cell_type": "code",
   "execution_count": 5,
   "id": "b0c1ff8b-8595-42f8-bce3-a214adea3726",
   "metadata": {},
   "outputs": [],
   "source": [
    "tokenizer = Tokenizer(num_words=10000,oov_token=\"<oov>\")\n",
    "tokenizer.fit_on_texts(df[\"cleaned_text\"])\n",
    "X = pad_sequences(tokenizer.texts_to_sequences(df[\"cleaned_text\"]),maxlen=200)"
   ]
  },
  {
   "cell_type": "markdown",
   "id": "68ac3cdd-c074-4782-9d89-63dc6047d2ed",
   "metadata": {},
   "source": [
    "### Data Preprocessing"
   ]
  },
  {
   "cell_type": "code",
   "execution_count": 6,
   "id": "7dfdd1a4-29c1-4af7-8881-b2fc714779c4",
   "metadata": {},
   "outputs": [],
   "source": [
    "df[\"encoded_label\"] = LabelEncoder().fit_transform(df[\"label\"])\n",
    "y = to_categorical(df[\"encoded_label\"],num_classes=3)"
   ]
  },
  {
   "cell_type": "markdown",
   "id": "24815d55-c646-4e70-a859-1ce9349dd02f",
   "metadata": {},
   "source": [
    "### Spliting the data"
   ]
  },
  {
   "cell_type": "code",
   "execution_count": 26,
   "id": "27d2c2c6-0a52-4106-af64-68bf87ee5741",
   "metadata": {},
   "outputs": [],
   "source": [
    "X_train,X_test,y_train,y_test = train_test_split(X,y,test_size=0.15,random_state=42)"
   ]
  },
  {
   "cell_type": "markdown",
   "id": "2a86f1da-cfb0-47c2-a6a4-48c1af65557e",
   "metadata": {},
   "source": [
    "## Model Creation"
   ]
  },
  {
   "cell_type": "markdown",
   "id": "32eeace4-df0c-4189-b1a8-b24ccf7d08bc",
   "metadata": {},
   "source": [
    "### Model Loading"
   ]
  },
  {
   "cell_type": "code",
   "execution_count": 27,
   "id": "68088f87-ac18-4cdd-8b4f-632ac8d36f97",
   "metadata": {},
   "outputs": [],
   "source": [
    "model = Sequential([\n",
    "    Embedding(10000,128,input_length=200),\n",
    "    SimpleRNN(64),\n",
    "    Dense(64,activation='relu'),\n",
    "    Dense(3,activation='softmax')\n",
    "])"
   ]
  },
  {
   "cell_type": "markdown",
   "id": "08f0255d-4844-4ad5-b107-edce74b2a38c",
   "metadata": {},
   "source": [
    "### Model Compilation"
   ]
  },
  {
   "cell_type": "code",
   "execution_count": 28,
   "id": "66555ae2-6695-4cd9-a74e-76aa0ebbb2f0",
   "metadata": {},
   "outputs": [],
   "source": [
    "model.compile(\n",
    "    optimizer='adam',\n",
    "    loss='categorical_crossentropy',\n",
    "    metrics=['accuracy']\n",
    ")"
   ]
  },
  {
   "cell_type": "markdown",
   "id": "9878fefd-a98e-4874-80a5-ce8c7e11ac3c",
   "metadata": {},
   "source": [
    "### Model Training"
   ]
  },
  {
   "cell_type": "code",
   "execution_count": 29,
   "id": "adef9392-7b4f-4128-87fd-3275d48fe78a",
   "metadata": {},
   "outputs": [
    {
     "name": "stdout",
     "output_type": "stream",
     "text": [
      "Epoch 1/30\n",
      "3/3 [==============================] - 2s 197ms/step - loss: 1.1190 - accuracy: 0.3067 - val_loss: 1.2532 - val_accuracy: 0.2222\n",
      "Epoch 2/30\n",
      "3/3 [==============================] - 0s 78ms/step - loss: 1.0774 - accuracy: 0.4667 - val_loss: 1.2603 - val_accuracy: 0.2222\n",
      "Epoch 3/30\n",
      "3/3 [==============================] - 0s 81ms/step - loss: 1.0179 - accuracy: 0.6000 - val_loss: 1.1497 - val_accuracy: 0.1111\n",
      "Epoch 4/30\n",
      "3/3 [==============================] - 0s 82ms/step - loss: 0.9670 - accuracy: 0.8667 - val_loss: 1.1177 - val_accuracy: 0.2222\n",
      "Epoch 5/30\n",
      "3/3 [==============================] - 0s 79ms/step - loss: 0.9224 - accuracy: 0.9333 - val_loss: 1.1145 - val_accuracy: 0.2222\n",
      "Epoch 6/30\n",
      "3/3 [==============================] - 0s 82ms/step - loss: 0.8378 - accuracy: 0.9867 - val_loss: 1.1082 - val_accuracy: 0.2222\n",
      "Epoch 7/30\n",
      "3/3 [==============================] - 0s 88ms/step - loss: 0.7679 - accuracy: 1.0000 - val_loss: 1.0871 - val_accuracy: 0.3333\n",
      "Epoch 8/30\n",
      "3/3 [==============================] - 0s 73ms/step - loss: 0.6825 - accuracy: 1.0000 - val_loss: 1.0583 - val_accuracy: 0.5556\n",
      "Epoch 9/30\n",
      "3/3 [==============================] - 0s 77ms/step - loss: 0.5906 - accuracy: 1.0000 - val_loss: 1.0541 - val_accuracy: 0.4444\n",
      "Epoch 10/30\n",
      "3/3 [==============================] - 0s 76ms/step - loss: 0.4903 - accuracy: 1.0000 - val_loss: 1.0977 - val_accuracy: 0.3333\n",
      "Epoch 11/30\n",
      "3/3 [==============================] - 0s 73ms/step - loss: 0.4302 - accuracy: 0.9733 - val_loss: 1.0449 - val_accuracy: 0.4444\n",
      "Epoch 12/30\n",
      "3/3 [==============================] - 0s 76ms/step - loss: 0.3274 - accuracy: 1.0000 - val_loss: 1.0033 - val_accuracy: 0.4444\n",
      "Epoch 13/30\n",
      "3/3 [==============================] - 0s 74ms/step - loss: 0.2547 - accuracy: 1.0000 - val_loss: 0.9547 - val_accuracy: 0.5556\n",
      "Epoch 14/30\n",
      "3/3 [==============================] - 0s 75ms/step - loss: 0.1767 - accuracy: 1.0000 - val_loss: 0.8930 - val_accuracy: 0.7778\n",
      "Epoch 15/30\n",
      "3/3 [==============================] - 0s 74ms/step - loss: 0.1272 - accuracy: 1.0000 - val_loss: 0.8236 - val_accuracy: 0.7778\n",
      "Epoch 16/30\n",
      "3/3 [==============================] - 0s 77ms/step - loss: 0.0919 - accuracy: 1.0000 - val_loss: 0.7821 - val_accuracy: 0.7778\n",
      "Epoch 17/30\n",
      "3/3 [==============================] - 0s 71ms/step - loss: 0.0647 - accuracy: 1.0000 - val_loss: 0.7746 - val_accuracy: 0.7778\n",
      "Epoch 18/30\n",
      "3/3 [==============================] - 0s 77ms/step - loss: 0.0454 - accuracy: 1.0000 - val_loss: 0.7529 - val_accuracy: 0.7778\n",
      "Epoch 19/30\n",
      "3/3 [==============================] - 0s 103ms/step - loss: 0.0326 - accuracy: 1.0000 - val_loss: 0.7301 - val_accuracy: 0.7778\n",
      "Epoch 20/30\n",
      "3/3 [==============================] - 0s 79ms/step - loss: 0.0239 - accuracy: 1.0000 - val_loss: 0.7203 - val_accuracy: 0.7778\n",
      "Epoch 21/30\n",
      "3/3 [==============================] - 0s 99ms/step - loss: 0.0180 - accuracy: 1.0000 - val_loss: 0.7181 - val_accuracy: 0.7778\n",
      "Epoch 22/30\n",
      "3/3 [==============================] - 0s 79ms/step - loss: 0.0140 - accuracy: 1.0000 - val_loss: 0.7175 - val_accuracy: 0.7778\n",
      "Epoch 23/30\n",
      "3/3 [==============================] - 0s 74ms/step - loss: 0.0113 - accuracy: 1.0000 - val_loss: 0.7168 - val_accuracy: 0.7778\n",
      "Epoch 24/30\n",
      "3/3 [==============================] - 0s 73ms/step - loss: 0.0094 - accuracy: 1.0000 - val_loss: 0.7207 - val_accuracy: 0.7778\n",
      "Epoch 25/30\n",
      "3/3 [==============================] - 0s 75ms/step - loss: 0.0079 - accuracy: 1.0000 - val_loss: 0.7226 - val_accuracy: 0.7778\n",
      "Epoch 26/30\n",
      "3/3 [==============================] - 0s 74ms/step - loss: 0.0068 - accuracy: 1.0000 - val_loss: 0.7260 - val_accuracy: 0.7778\n",
      "Epoch 27/30\n",
      "3/3 [==============================] - 0s 75ms/step - loss: 0.0059 - accuracy: 1.0000 - val_loss: 0.7291 - val_accuracy: 0.7778\n",
      "Epoch 28/30\n",
      "3/3 [==============================] - 0s 94ms/step - loss: 0.0053 - accuracy: 1.0000 - val_loss: 0.7310 - val_accuracy: 0.7778\n",
      "Epoch 29/30\n",
      "3/3 [==============================] - 0s 98ms/step - loss: 0.0047 - accuracy: 1.0000 - val_loss: 0.7331 - val_accuracy: 0.7778\n",
      "Epoch 30/30\n",
      "3/3 [==============================] - 0s 99ms/step - loss: 0.0043 - accuracy: 1.0000 - val_loss: 0.7355 - val_accuracy: 0.7778\n"
     ]
    }
   ],
   "source": [
    "history = model.fit(X_train,y_train,\n",
    "                     epochs=30,\n",
    "                     batch_size=32,\n",
    "                     validation_split=0.1,\n",
    "                     verbose=1\n",
    "                     )"
   ]
  },
  {
   "cell_type": "code",
   "execution_count": 31,
   "id": "d1d28f14-1a44-4dbb-8fec-13f12a2da5d9",
   "metadata": {},
   "outputs": [
    {
     "data": {
      "image/png": "[encoded data removed]",
      "text/plain": [
       "<Figure size 1000x600 with 1 Axes>"
      ]
     },
     "metadata": {},
     "output_type": "display_data"
    }
   ],
   "source": [
    "import matplotlib.pyplot as plt\n",
    "plt.figure(figsize=(10,6))\n",
    "plt.plot(history.history['accuracy'],label='Train Accuracy')\n",
    "plt.plot(history.history['val_accuracy'],label=\"Validation Accuracy\")\n",
    "plt.show()"
   ]
  },
  {
   "cell_type": "code",
   "execution_count": 37,
   "id": "9917b965-018a-4585-b823-ba34b49aa551",
   "metadata": {},
   "outputs": [],
   "source": [
    "label_encoder = LabelEncoder()\n",
    "df[\"encoded_label\"] = label_encoder.fit_transform(df[\"label\"])\n",
    "y = to_categorical(df[\"encoded_label\"], num_classes=3)"
   ]
  },
  {
   "cell_type": "code",
   "execution_count": 38,
   "id": "a0c76e47-1afc-48b7-8f1c-f5ca567c1f97",
   "metadata": {},
   "outputs": [],
   "source": [
    "def predict_sentiment(text):\n",
    "    seq = pad_sequences(tokenizer.texts_to_sequences([clean_text(text)]),maxlen=200)\n",
    "    prediction = model.predict(seq)[0]\n",
    "    return label_encoder.inverse_transform([np.argmax(prediction)])[0]"
   ]
  },
  {
   "cell_type": "code",
   "execution_count": 50,
   "id": "deada254-54f5-4ea2-b3b3-373931553ef5",
   "metadata": {},
   "outputs": [
    {
     "name": "stdout",
     "output_type": "stream",
     "text": [
      "1/1 [==============================] - 0s 31ms/step\n",
      "positive\n",
      "1/1 [==============================] - 0s 25ms/step\n",
      "neutral\n",
      "1/1 [==============================] - 0s 27ms/step\n",
      "positive\n"
     ]
    }
   ],
   "source": [
    "print(predict_sentiment(\"Worst CSK\"))\n",
    "print(predict_sentiment(\"Not RCB\"))\n",
    "print(predict_sentiment(\"Lauda PKS\"))"
   ]
  },
  {
   "cell_type": "code",
   "execution_count": null,
   "id": "59099ca7-adf4-48e1-8bf2-41bc47b56fdd",
   "metadata": {},
   "outputs": [],
   "source": []
  }
 ],
 "metadata": {
  "kernelspec": {
   "display_name": "Python 3 (ipykernel)",
   "language": "python",
   "name": "python3"
  },
  "language_info": {
   "codemirror_mode": {
    "name": "ipython",
    "version": 3
   },
   "file_extension": ".py",
   "mimetype": "text/x-python",
   "name": "python",
   "nbconvert_exporter": "python",
   "pygments_lexer": "ipython3",
   "version": "3.11.4"
  }
 },
 "nbformat": 4,
 "nbformat_minor": 5
}
