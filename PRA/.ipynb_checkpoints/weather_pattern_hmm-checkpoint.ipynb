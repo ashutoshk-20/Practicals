{
 "cells": [
  {
   "cell_type": "markdown",
   "id": "e2ce26fa",
   "metadata": {},
   "source": [
    "# Weather Pattern Analysis using HMM"
   ]
  },
  {
   "cell_type": "markdown",
   "id": "3c502549",
   "metadata": {},
   "source": [
    "## Importing libraries"
   ]
  },
  {
   "cell_type": "markdown",
   "id": "071959d7",
   "metadata": {},
   "source": [
    "## Data Preparation"
   ]
  },
  {
   "cell_type": "markdown",
   "id": "bb1f64a4",
   "metadata": {},
   "source": [
    "### States and Transition Matrix"
   ]
  },
  {
   "cell_type": "markdown",
   "id": "4a7f486f",
   "metadata": {},
   "source": [
    "### Synthetic data creation"
   ]
  },
  {
   "cell_type": "markdown",
   "id": "3a322838",
   "metadata": {},
   "source": [
    "## HMM Model"
   ]
  },
  {
   "cell_type": "markdown",
   "id": "3c225774",
   "metadata": {},
   "source": [
    "### Discrete HMM"
   ]
  },
  {
   "cell_type": "markdown",
   "id": "1d6c5491",
   "metadata": {},
   "source": [
    "### Continuous HMM"
   ]
  },
  {
   "cell_type": "markdown",
   "id": "596337d6",
   "metadata": {},
   "source": [
    "## States mapping and Evaluation"
   ]
  },
  {
   "cell_type": "markdown",
   "id": "11e03dc6",
   "metadata": {},
   "source": [
    "## Visualization"
   ]
  }
 ],
 "metadata": {
  "language_info": {
   "name": "python"
  }
 },
 "nbformat": 4,
 "nbformat_minor": 5
}
